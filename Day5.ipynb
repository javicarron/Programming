{
 "cells": [
  {
   "cell_type": "code",
   "execution_count": 15,
   "metadata": {
    "collapsed": false
   },
   "outputs": [
    {
     "name": "stdout",
     "output_type": "stream",
     "text": [
      "Overwriting example.py\n"
     ]
    }
   ],
   "source": [
    "%%writefile example.py\n",
    "#!/usr/bin/env python\n",
    "import wx\n",
    "#import os\n",
    "class ExamplePanel(wx.Panel):\n",
    "    def __init__(self, parent):\n",
    "        wx.Panel.__init__(self, parent)\n",
    "        self.quote = wx.StaticText(self, label=\"Your quote: \", pos=(20,30))\n",
    "        \n",
    "        self.logger = wx.TextCtrl(self, pos=(300,20), size=(200,300), style=wx.TE_MULTILINE | wx.TE_READONLY)\n",
    "        \n",
    "        self.button = wx.Button(self, label=\"Save\", pos=(200,325))\n",
    "        self.Bind(wx.EVT_BUTTON, self.OnClick, self.button)\n",
    "        \n",
    "        self.lblname=wx.StaticText(self, label=\"Your name: \", pos=(20,60))\n",
    "        self.editname= wx.TextCtrl(self, value=\"Enter your name here\", pos=(150,60), size=(140,-1))\n",
    "        self.Bind(wx.EVT_TEXT, self.EvtText, self.editname)\n",
    "        self.Bind(wx.EVT_CHAR, self.EvtChar, self.editname)\n",
    "        \n",
    "        self.sampleList = ['friends', 'advertising', 'web search', 'Yellow Pages']\n",
    "        self.lblhear=wx.StaticText(self,label=\"How did you hear from us\", pos=(20,90))\n",
    "        self.edithear=wx.ComboBox(self, pos=(150,90), size=(95,-1), choices=self.sampleList, style=wx.CB_DROPDOWN)\n",
    "        self.Bind(wx.EVT_COMBOBOX, self.EvtComboBox, self.edithear)\n",
    "        self.Bind(wx.EVT_TEXT, self.EvtText, self.edithear)\n",
    "        \n",
    "        self.insure =wx.CheckBox(self, label=\"Do you want Insured Shipment?\", pos=(20,180))\n",
    "        self.Bind(wx.EVT_CHECKBOX, self.EvtCheckBox,self.insure)\n",
    "        \n",
    "        radioList= ['blue', 'red', 'yellow', 'orange', 'green', 'purple', 'navy blue', 'black', 'gray']\n",
    "        rb=wx.RadioBox(self, label=\"What color would you like?\", pos=(20,210), choices=radioList, majorDimension=3, style=wx.RA_SPECIFY_COLS)\n",
    "        self.Bind(wx.EVT_RADIOBOX, self.EvtRadioBox, rb)\n",
    "        \n",
    "    def EvtRadioBox(self,event):\n",
    "        self.logger.AppendText('EvtRadioBox: %d\\n' % event.GetInt())\n",
    "    def EvtComboBox(self,event):\n",
    "        self.logger.AppendText('EvtComboBox: %s\\n' % event.GetString())\n",
    "    def OnClick(self,event):\n",
    "        self.logger.AppendText('Click the object with ID: %d\\n' % event.GetId())\n",
    "    def EvtText(self,event):\n",
    "        self.logger.AppendText('EvtText: %s\\n' % event.GetString())\n",
    "    def EvtChar(self,event):\n",
    "        self.logger.AppendText('EvtChar: %d\\n' % event.GetKeyCode())\n",
    "        event.Skip()\n",
    "    def EvtCheckBox(self,event):\n",
    "        self.logger.AppendText('EvtCheckBox: %d\\n' % event.Checked())"
   ]
  },
  {
   "cell_type": "code",
   "execution_count": 21,
   "metadata": {
    "collapsed": false
   },
   "outputs": [
    {
     "name": "stdout",
     "output_type": "stream",
     "text": [
      "Overwriting control_demo.py\n"
     ]
    }
   ],
   "source": [
    "%%writefile control_demo.py\n",
    "#!/usr/bin/env python\n",
    "import wx\n",
    "from example import ExamplePanel\n",
    "\n",
    "app=wx.App(False)\n",
    "frame=wx.Frame(None,size=(500,400))\n",
    "panel=ExamplePanel(frame)\n",
    "frame.Show()\n",
    "app.MainLoop()"
   ]
  },
  {
   "cell_type": "code",
   "execution_count": 23,
   "metadata": {
    "collapsed": false
   },
   "outputs": [],
   "source": [
    "!python ./control_demo.py"
   ]
  },
  {
   "cell_type": "code",
   "execution_count": null,
   "metadata": {
    "collapsed": true
   },
   "outputs": [],
   "source": []
  },
  {
   "cell_type": "code",
   "execution_count": null,
   "metadata": {
    "collapsed": true
   },
   "outputs": [],
   "source": []
  }
 ],
 "metadata": {
  "anaconda-cloud": {},
  "kernelspec": {
   "display_name": "Python [conda root]",
   "language": "python",
   "name": "conda-root-py"
  },
  "language_info": {
   "codemirror_mode": {
    "name": "ipython",
    "version": 2
   },
   "file_extension": ".py",
   "mimetype": "text/x-python",
   "name": "python",
   "nbconvert_exporter": "python",
   "pygments_lexer": "ipython2",
   "version": "2.7.12"
  }
 },
 "nbformat": 4,
 "nbformat_minor": 1
}

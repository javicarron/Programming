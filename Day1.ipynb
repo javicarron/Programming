{
 "cells": [
  {
   "cell_type": "markdown",
   "metadata": {},
   "source": [
    "# Atajos\n",
    "\n",
    "ESC-m  -> markdown\n",
    "\n",
    "ESC-y  -> code\n",
    "\n",
    "Shift-Enter  -> execute\n",
    "\n",
    "## Formato\n",
    "\n",
    "**bold**\n",
    "\n",
    "_italic_\n",
    "\n",
    "`emphasized`\n",
    "\n",
    "\n",
    "## Listas\n",
    "\n",
    "- List 1\n",
    "    - Item 1\n",
    "    - Item 2\n",
    "    - Item 3\n",
    "\n",
    "- List 2\n",
    "    1. 1\n",
    "    1. 4\n",
    "\n",
    "`- para bullets y numeros para listas`\n",
    "\n",
    "## Mates\n",
    "\n",
    "Entre `$` como en $\\LaTeX$\n",
    "\n",
    "$\\frac{1}{3}$\n",
    "\n",
    "## Code\n",
    "\n",
    "```python\n",
    "test\n",
    "```\n",
    "\n",
    "```bash\n",
    "export PATH=`/home/user/...`\n",
    "```\n",
    "\n",
    "## Wildcards\n",
    "\n",
    "- `*` -- todo\n",
    "- ? -- todo (1 caracter)\n",
    "- `[]` -- todo lo que haya dentro (1 caracter)\n",
    "- `[0-9]`  -- todo lo que haya entre los dos (1 caracter)\n",
    "- `[^]`  -- todo excepto lo que haya despues de ^\n",
    "\n"
   ]
  },
  {
   "cell_type": "code",
   "execution_count": 6,
   "metadata": {
    "collapsed": true
   },
   "outputs": [],
   "source": [
    "import sys"
   ]
  },
  {
   "cell_type": "code",
   "execution_count": 22,
   "metadata": {
    "collapsed": false
   },
   "outputs": [
    {
     "name": "stdout",
     "output_type": "stream",
     "text": [
      "test\n",
      "csat8786\n",
      "\n",
      "/home/csat8786/Programming\n",
      "Day1.ipynb\n",
      "get_current_dir_name (3) - get current working directory\n",
      "getcwd (2)           - get current working directory\n",
      "getcwd (3)           - get current working directory\n",
      "getwd (3)            - get current working directory\n",
      "cd (1p)              - change the working directory\n",
      "cd (n)               - Change working directory\n",
      "chdir (2)            - change working directory\n",
      "chdir (3p)           - change working directory\n",
      "Cwd (3pm)            - get pathname of current working directory\n",
      "fchdir (2)           - change working directory\n",
      "fchdir (3p)          - change working directory\n",
      "getcwd (3p)          - get the pathname of the current working directory\n",
      "getwd (3p)           - get the current working directory pathname (LEGACY)\n",
      "git-stash (1)        - Stash the changes in a dirty working directory away\n",
      "pwd (1)              - print name of current/working directory\n",
      "pwd (1p)             - return working directory name\n",
      "pwd (n)              - Return the absolute path of the current working directory\n",
      "pwdx (1)             - report current working directory of a process\n",
      "Tcl_Chdir (3)        - manipulate the current working directory\n",
      "Tcl_GetCwd (3)       - manipulate the current working directory\n",
      ".\n",
      "..\n",
      "Day1.ipynb\n",
      ".ipynb_checkpoints\n"
     ]
    }
   ],
   "source": [
    "%%bash\n",
    "echo 'test'\n",
    "whoami\n",
    "echo $PS1\n",
    "pwd\n",
    "ls\n",
    "apropos 'working directory'\n",
    "ls -a\n"
   ]
  },
  {
   "cell_type": "code",
   "execution_count": 7,
   "metadata": {
    "collapsed": false
   },
   "outputs": [
    {
     "name": "stdout",
     "output_type": "stream",
     "text": [
      " 174  428 4006 Day1.ipynb\n",
      " 200 hola\n"
     ]
    }
   ],
   "source": [
    "%%bash\n",
    "wc *.ipynb > lenght\n",
    "echo ' 200 hola' >> lenght\n",
    "sort -n lenght"
   ]
  },
  {
   "cell_type": "code",
   "execution_count": 11,
   "metadata": {
    "collapsed": false
   },
   "outputs": [],
   "source": [
    "%%bash\n",
    "echo '\n",
    "first line\n",
    "second line\n",
    "third line' > lines\n",
    "echo 'lion\n",
    "panther\n",
    "tiger' > animals"
   ]
  },
  {
   "cell_type": "code",
   "execution_count": 16,
   "metadata": {
    "collapsed": false
   },
   "outputs": [
    {
     "name": "stdout",
     "output_type": "stream",
     "text": [
      "   3 animals\n"
     ]
    }
   ],
   "source": [
    "%%bash\n",
    "wc -l * | sort -n | head -n 2 | tail -n 1"
   ]
  },
  {
   "cell_type": "code",
   "execution_count": 19,
   "metadata": {
    "collapsed": false
   },
   "outputs": [],
   "source": [
    "%%bash\n",
    "echo '1\n",
    "2\n",
    "10\n",
    "8\n",
    "2\n",
    "5' > numbers"
   ]
  },
  {
   "cell_type": "code",
   "execution_count": 27,
   "metadata": {
    "collapsed": false
   },
   "outputs": [
    {
     "name": "stdout",
     "output_type": "stream",
     "text": [
      "      1 1\n",
      "      2 2\n",
      "      1 5\n",
      "      1 8\n",
      "      1 10\n"
     ]
    }
   ],
   "source": [
    "%%bash\n",
    "sort -n numbers | uniq -c"
   ]
  },
  {
   "cell_type": "code",
   "execution_count": 28,
   "metadata": {
    "collapsed": false
   },
   "outputs": [
    {
     "name": "stdout",
     "output_type": "stream",
     "text": [
      "Oh mira cuantos espacios\r\n"
     ]
    }
   ],
   "source": [
    "!echo 'Oh mira      cuantos espacios' | tr -s ' '"
   ]
  },
  {
   "cell_type": "code",
   "execution_count": 34,
   "metadata": {
    "collapsed": false
   },
   "outputs": [
    {
     "name": "stdout",
     "output_type": "stream",
     "text": [
      "Oh mirb      cubntos espbcios\r\n"
     ]
    }
   ],
   "source": [
    "!echo 'Oh mira      cuantos espacios' | tr \"a\" \"b\""
   ]
  },
  {
   "cell_type": "code",
   "execution_count": 51,
   "metadata": {
    "collapsed": false
   },
   "outputs": [],
   "source": [
    "%%bash\n",
    "echo '!#/usr/bin bash\n",
    "for filename in *\n",
    "do\n",
    "    echo \"$filename\"\n",
    "    head -2 $filename\n",
    "    echo \"\"\n",
    "done' > prueba.sh\n",
    "chmod +x prueba.sh"
   ]
  },
  {
   "cell_type": "markdown",
   "metadata": {},
   "source": [
    "`;` en vez de salto de linea\n",
    "\n",
    "`#` para comentarios"
   ]
  },
  {
   "cell_type": "code",
   "execution_count": 54,
   "metadata": {
    "collapsed": true
   },
   "outputs": [],
   "source": [
    "%%bash\n",
    "echo '!#/usr/bin/ bash' > script3.sh\n",
    "echo '\n",
    "dir0=\"/dir/\"\n",
    "ARRAY=(\n",
    "\"val1\"\n",
    "\"val2\"\n",
    "\"val3\"\n",
    ")\n",
    "echo \"2nd value is \"${ARRAY[1]}\n",
    "for name in \"${ARRAY[@]}\"\n",
    "do\n",
    "    echo $dir0$name\n",
    "done\n",
    "' >>script3.sh\n",
    "\n",
    "chmod +x script3.sh"
   ]
  },
  {
   "cell_type": "code",
   "execution_count": 61,
   "metadata": {
    "collapsed": false
   },
   "outputs": [
    {
     "name": "stdout",
     "output_type": "stream",
     "text": [
      "1:mars\n",
      "2:jupiter\n"
     ]
    }
   ],
   "source": [
    "%%bash\n",
    "echo 'mars\n",
    "jupiter\n",
    "saturn\n",
    "venus' > list_of_planets\n",
    "grep -n -v \"u[rs]\" list_of_planets"
   ]
  },
  {
   "cell_type": "code",
   "execution_count": 72,
   "metadata": {
    "collapsed": false
   },
   "outputs": [
    {
     "name": "stdout",
     "output_type": "stream",
     "text": [
      "./.ipynb_checkpoints\r\n",
      "./.ipynb_checkpoints/Day1-checkpoint.ipynb\r\n",
      "./Day1.ipynb\r\n",
      "./lines\r\n",
      "./animals\r\n",
      "./script3.sh\r\n",
      "./list_of_planets\r\n"
     ]
    }
   ],
   "source": [
    "!find . -name \"*i*\""
   ]
  },
  {
   "cell_type": "code",
   "execution_count": 76,
   "metadata": {
    "collapsed": false
   },
   "outputs": [
    {
     "name": "stdout",
     "output_type": "stream",
     "text": [
      "The cat walks on the roof\n"
     ]
    }
   ],
   "source": [
    "%%bash\n",
    "echo 'The cat walks on the roof' | sed '/run/walk'"
   ]
  },
  {
   "cell_type": "code",
   "execution_count": null,
   "metadata": {
    "collapsed": true
   },
   "outputs": [],
   "source": []
  }
 ],
 "metadata": {
  "anaconda-cloud": {},
  "kernelspec": {
   "display_name": "Python [conda root]",
   "language": "python",
   "name": "conda-root-py"
  },
  "language_info": {
   "codemirror_mode": {
    "name": "ipython",
    "version": 2
   },
   "file_extension": ".py",
   "mimetype": "text/x-python",
   "name": "python",
   "nbconvert_exporter": "python",
   "pygments_lexer": "ipython2",
   "version": "2.7.12"
  }
 },
 "nbformat": 4,
 "nbformat_minor": 1
}

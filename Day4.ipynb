{
 "cells": [
  {
   "cell_type": "code",
   "execution_count": 1,
   "metadata": {
    "collapsed": false
   },
   "outputs": [
    {
     "name": "stdout",
     "output_type": "stream",
     "text": [
      "Overwriting framecode.py\n"
     ]
    }
   ],
   "source": [
    "%%writefile framecode.py\n",
    "#!/usr/bin/env python\n",
    "import wx\n",
    "\n",
    "app = wx.App(False)\n",
    "frame = wx.Frame(None, wx.ID_ANY, \"Hello World\")\n",
    "        #Parent, ID, Title\n",
    "frame.Show(True)\n",
    "app.MainLoop()"
   ]
  },
  {
   "cell_type": "code",
   "execution_count": 2,
   "metadata": {
    "collapsed": true
   },
   "outputs": [],
   "source": [
    "!python framecode.py"
   ]
  },
  {
   "cell_type": "code",
   "execution_count": 3,
   "metadata": {
    "collapsed": false
   },
   "outputs": [],
   "source": [
    "!chmod +x ./framecode.py"
   ]
  },
  {
   "cell_type": "code",
   "execution_count": 4,
   "metadata": {
    "collapsed": false
   },
   "outputs": [],
   "source": [
    "!./framecode.py"
   ]
  },
  {
   "cell_type": "code",
   "execution_count": 5,
   "metadata": {
    "collapsed": false
   },
   "outputs": [
    {
     "name": "stdout",
     "output_type": "stream",
     "text": [
      "Overwriting editor.py\n"
     ]
    }
   ],
   "source": [
    "%%writefile editor.py\n",
    "#!/usr/bin/env python\n",
    "import wx\n",
    "class MyFrame(wx.Frame):\n",
    "    def __init__(self, parent, title):\n",
    "        wx.Frame.__init__(self, parent, title=title, size=(200,100))\n",
    "        self.control = wx.TextCtrl(self, style=wx.TE_MULTILINE)\n",
    "        self.Show(True)\n",
    "        \n",
    "app = wx.App(False)\n",
    "frame = MyFrame(None, \"Small editor\")\n",
    "app.MainLoop()"
   ]
  },
  {
   "cell_type": "code",
   "execution_count": 6,
   "metadata": {
    "collapsed": true
   },
   "outputs": [],
   "source": [
    "!python editor.py"
   ]
  },
  {
   "cell_type": "code",
   "execution_count": 56,
   "metadata": {
    "collapsed": false
   },
   "outputs": [
    {
     "name": "stdout",
     "output_type": "stream",
     "text": [
      "Overwriting editor2.py\n"
     ]
    }
   ],
   "source": [
    "%%writefile editor2.py\n",
    "#!/usr/bin/env python\n",
    "import wx\n",
    "import os\n",
    "class MainWindow(wx.Frame):\n",
    "    def __init__(self, parent, title):\n",
    "        wx.Frame.__init__(self, parent, title=title, size=(400,800))\n",
    "        self.control = wx.TextCtrl(self, style=wx.TE_MULTILINE)\n",
    "        self.CreateStatusBar()\n",
    "        \n",
    "        filemenu=wx.Menu()\n",
    "        menuAbout= filemenu.Append(wx.ID_ABOUT, \"&About\", \"Information about this program\")\n",
    "        menuJoke= filemenu.Append(wx.ID_ANY, \"Joke\", \"Want a joke?\")\n",
    "        menuOpen= filemenu.Append(wx.ID_OPEN, \"&Open\", \"Open text file\")\n",
    "        filemenu.AppendSeparator()\n",
    "        menuExit= filemenu.Append(wx.ID_EXIT,\"E&xit\", \"Terminate this program\")\n",
    "        \n",
    "        menuBar=wx.MenuBar()\n",
    "        menuBar.Append(filemenu,\"&File\")\n",
    "        self.SetMenuBar(menuBar)\n",
    "        \n",
    "        self.Bind(wx.EVT_MENU, self.OnAbout, menuAbout)\n",
    "        self.Bind(wx.EVT_MENU, self.OnOpen, menuOpen)\n",
    "        self.Bind(wx.EVT_MENU, self.OnExit, menuExit)\n",
    "        self.Bind(wx.EVT_MENU, self.OnJoke, menuJoke)\n",
    "        \n",
    "        self.sizer2=wx.BoxSizer(wx.HORIZONTAL)\n",
    "        self.buttons =[]\n",
    "        for i in range(0,6):\n",
    "            self.buttons.append(wx.Button(self, -1, \"Button &\"+str(i)))\n",
    "            self.sizer2.Add(self.buttons[i], 1, wx.EXPAND)\n",
    "            \n",
    "        self.sizer = wx.BoxSizer(wx.VERTICAL)\n",
    "        self.sizer.Add(self.control, 1, wx.EXPAND)\n",
    "        self.sizer.Add(self.sizer2, 0, wx.EXPAND)\n",
    "        \n",
    "        self.SetSizer(self.sizer)\n",
    "        self.SetAutoLayout(1)\n",
    "        self.sizer.Fit(self)     \n",
    "        \n",
    "        self.Show(True)\n",
    "        \n",
    "    \n",
    "    def OnAbout(self,e):\n",
    "        dlg = wx.MessageDialog(self, \"A small text editor\", \"About Sample Editor\", wx.OK)\n",
    "        dlg.ShowModal()\n",
    "        dlg.Destroy()\n",
    "        \n",
    "    def OnExit(self,e):\n",
    "        self.Close(True)\n",
    "        \n",
    "    def OnOpen(self,e):\n",
    "        self.dirname=''\n",
    "        dlg = wx.FileDialog(self, \"Choose a file\", self.dirname, \"\", \"*.*\", wx.OPEN)\n",
    "        if dlg.ShowModal() == wx.ID_OK:\n",
    "            self.filename = dlg.GetFilename()\n",
    "            self.dirname = dlg.GetDirectory()\n",
    "            f = open(os.path.join(self.dirname, self.filename), 'r')\n",
    "            self.control.SetValue(f.read())\n",
    "            f.close()\n",
    "        dlg.Destroy\n",
    "        \n",
    "    def OnJoke(self,e):\n",
    "        dlg = wx.MessageDialog(self, \"-How much does your Python directory weight? -Oh, it weights Pi-tons\",\"A bad joke\",  wx.OK)\n",
    "        dlg.ShowModal()\n",
    "        dlg.Destroy()\n",
    "        \n",
    "        \n",
    "app = wx.App(False)\n",
    "frame = MainWindow(None, \"Sample editor\")\n",
    "app.MainLoop()"
   ]
  },
  {
   "cell_type": "code",
   "execution_count": 57,
   "metadata": {
    "collapsed": false
   },
   "outputs": [],
   "source": [
    "!python editor2.py"
   ]
  },
  {
   "cell_type": "code",
   "execution_count": null,
   "metadata": {
    "collapsed": true
   },
   "outputs": [],
   "source": []
  }
 ],
 "metadata": {
  "anaconda-cloud": {},
  "kernelspec": {
   "display_name": "Python [conda root]",
   "language": "python",
   "name": "conda-root-py"
  },
  "language_info": {
   "codemirror_mode": {
    "name": "ipython",
    "version": 2
   },
   "file_extension": ".py",
   "mimetype": "text/x-python",
   "name": "python",
   "nbconvert_exporter": "python",
   "pygments_lexer": "ipython2",
   "version": "2.7.12"
  }
 },
 "nbformat": 4,
 "nbformat_minor": 1
}

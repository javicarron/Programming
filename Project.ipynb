{
 "cells": [
  {
   "cell_type": "code",
   "execution_count": 55,
   "metadata": {
    "collapsed": false
   },
   "outputs": [
    {
     "name": "stdout",
     "output_type": "stream",
     "text": [
      "Overwriting project.py\n"
     ]
    }
   ],
   "source": [
    "%%writefile project.py\n",
    "#!/usr/bin/env python\n",
    "import wx\n",
    "import os\n",
    "class MainWindow(wx.Frame):\n",
    "    def __init__(self, parent, title):\n",
    "        wx.Frame.__init__(self, parent, title=title)\n",
    "        self.control = wx.TextCtrl(self, style=wx.TE_MULTILINE)\n",
    "        self.CreateStatusBar()\n",
    "        \n",
    "        filemenu=wx.Menu()\n",
    "        menuOpen= filemenu.Append(wx.ID_OPEN, \"&Open\", \"Open text file\")\n",
    "        filemenu.AppendSeparator()\n",
    "        menuExit= filemenu.Append(wx.ID_EXIT,\"E&xit\", \"Terminate this program\")\n",
    "        \n",
    "        helpmenu=wx.Menu()\n",
    "        menuAbout= helpmenu.Append(wx.ID_ABOUT, \"&About\", \"Information about this program\")\n",
    "        \n",
    "        menuBar=wx.MenuBar()\n",
    "        menuBar.Append(filemenu,\"&File\")\n",
    "        menuBar.Append(helpmenu, \"&Help\")\n",
    "        self.SetMenuBar(menuBar)\n",
    "        \n",
    "        self.Bind(wx.EVT_MENU, self.OnAbout, menuAbout)\n",
    "        self.Bind(wx.EVT_MENU, self.OnOpen, menuOpen)\n",
    "        self.Bind(wx.EVT_MENU, self.OnExit, menuExit)\n",
    "        \n",
    "        \n",
    "        self.sizer2=wx.BoxSizer(wx.HORIZONTAL)\n",
    "        Buttons= self.buttons =[]\n",
    "        self.buttons.append(wx.Button(self, 0, \"Open\"))\n",
    "        self.sizer2.Add(self.buttons[0], 1, wx.EXPAND)\n",
    "        self.Bind(wx.EVT_BUTTON, self.OnOpen, Buttons[0])\n",
    "        for i in range(1,6):\n",
    "            self.buttons.append(wx.Button(self, 0, \"Button &\"+str(i)))\n",
    "            self.sizer2.Add(self.buttons[i], 1, wx.EXPAND)\n",
    "            \n",
    "        self.sizer = wx.BoxSizer(wx.VERTICAL)\n",
    "        self.sizer.Add(self.sizer2, 0, wx.EXPAND)\n",
    "        self.sizer.Add(self.control, 1, wx.EXPAND)\n",
    "        \n",
    "        self.SetSizer(self.sizer)\n",
    "        self.SetAutoLayout(1)\n",
    "        #self.sizer.Fit(self)     \n",
    "        self.SetSize((500,400))\n",
    "        \n",
    "        self.Show(True)\n",
    "        \n",
    "    \n",
    "    def OnAbout(self,e):\n",
    "        dlg = wx.MessageDialog(self, \"A small yet undefined project\", \"About this project\", wx.OK)\n",
    "        dlg.ShowModal()\n",
    "        dlg.Destroy()\n",
    "        \n",
    "    def OnExit(self,e):\n",
    "        self.Close(True)\n",
    "        \n",
    "    def OnOpen(self,e):\n",
    "        self.dirname=''\n",
    "        dlg = wx.FileDialog(self, \"Choose a file\", self.dirname, \"\", \"*.*\", wx.OPEN)\n",
    "        if dlg.ShowModal() == wx.ID_OK:\n",
    "            self.filename = dlg.GetFilename()\n",
    "            self.dirname = dlg.GetDirectory()\n",
    "            f = open(os.path.join(self.dirname, self.filename), 'r')\n",
    "            self.control.SetValue(f.read())\n",
    "            f.close()\n",
    "        dlg.Destroy\n",
    "        \n",
    "        \n",
    "app = wx.App(False)\n",
    "frame = MainWindow(None, \"Project\")\n",
    "app.MainLoop()"
   ]
  },
  {
   "cell_type": "code",
   "execution_count": 56,
   "metadata": {
    "collapsed": false
   },
   "outputs": [],
   "source": [
    "!./project.py"
   ]
  },
  {
   "cell_type": "code",
   "execution_count": 4,
   "metadata": {
    "collapsed": false
   },
   "outputs": [],
   "source": [
    "!chmod +x project.py"
   ]
  },
  {
   "cell_type": "code",
   "execution_count": null,
   "metadata": {
    "collapsed": true
   },
   "outputs": [],
   "source": []
  }
 ],
 "metadata": {
  "anaconda-cloud": {},
  "kernelspec": {
   "display_name": "Python [conda root]",
   "language": "python",
   "name": "conda-root-py"
  },
  "language_info": {
   "codemirror_mode": {
    "name": "ipython",
    "version": 2
   },
   "file_extension": ".py",
   "mimetype": "text/x-python",
   "name": "python",
   "nbconvert_exporter": "python",
   "pygments_lexer": "ipython2",
   "version": "2.7.12"
  }
 },
 "nbformat": 4,
 "nbformat_minor": 1
}

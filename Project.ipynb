{
 "cells": [
  {
   "cell_type": "code",
   "execution_count": 5,
   "metadata": {
    "collapsed": false
   },
   "outputs": [
    {
     "name": "stdout",
     "output_type": "stream",
     "text": [
      "Overwriting project.py\n"
     ]
    }
   ],
   "source": [
    "%%writefile project.py\n",
    "#!/usr/bin/env python\n",
    "import wx\n",
    "import os\n",
    "class MainWindow(wx.Frame):\n",
    "    def __init__(self, parent, title):\n",
    "        wx.Frame.__init__(self, parent, title=title)\n",
    "        self.control = wx.TextCtrl(self, style=wx.TE_MULTILINE)\n",
    "        self.CreateStatusBar()\n",
    "        \n",
    "        filemenu=wx.Menu()\n",
    "        menuOpen= filemenu.Append(wx.ID_OPEN, \"&Open\", \"Open text file\")\n",
    "        filemenu.AppendSeparator()\n",
    "        menuExit= filemenu.Append(wx.ID_EXIT,\"E&xit\", \"Terminate this program\")\n",
    "        \n",
    "        helpmenu=wx.Menu()\n",
    "        menuAbout= helpmenu.Append(wx.ID_ABOUT, \"&About\", \"Information about this program\")\n",
    "        \n",
    "        menuBar=wx.MenuBar()\n",
    "        menuBar.Append(filemenu,\"&File\")\n",
    "        menuBar.Append(helpmenu, \"&Help\")\n",
    "        self.SetMenuBar(menuBar)\n",
    "        \n",
    "        self.Bind(wx.EVT_MENU, self.OnAbout, menuAbout)\n",
    "        self.Bind(wx.EVT_MENU, self.OnOpen, menuOpen)\n",
    "        self.Bind(wx.EVT_MENU, self.OnExit, menuExit)\n",
    "        \n",
    "        \n",
    "        self.sizer2=wx.BoxSizer(wx.HORIZONTAL)\n",
    "        Buttons= self.buttons =[]\n",
    "        self.buttons.append(wx.Button(self, 0, \"Open\"))\n",
    "        self.sizer2.Add(self.buttons[0], 1, wx.EXPAND)\n",
    "        self.Bind(wx.EVT_BUTTON, self.OnOpen, Buttons[0])\n",
    "        for i in range(1,6):\n",
    "            self.buttons.append(wx.Button(self, 0, \"Button &\"+str(i)))\n",
    "            self.sizer2.Add(self.buttons[i], 1, wx.EXPAND)\n",
    "            \n",
    "        self.sizer = wx.BoxSizer(wx.VERTICAL)\n",
    "        self.sizer.Add(self.sizer2, 0, wx.EXPAND)\n",
    "        self.sizer.Add(self.control, 1, wx.EXPAND)\n",
    "        \n",
    "        self.SetSizer(self.sizer)\n",
    "        self.SetAutoLayout(1)\n",
    "        #self.sizer.Fit(self)     \n",
    "        self.SetSize((500,400))\n",
    "        \n",
    "        self.Show(True)\n",
    "        \n",
    "    \n",
    "    def OnAbout(self,e):\n",
    "        dlg = wx.MessageDialog(self, \"A small yet undefined project\", \"About this project\", wx.OK)\n",
    "        dlg.ShowModal()\n",
    "        dlg.Destroy()\n",
    "        \n",
    "    def OnExit(self,e):\n",
    "        wx.ColourPickerCtrl()\n",
    "        \n",
    "    def OnOpen(self,e):\n",
    "        self.dirname=''\n",
    "        dlg = wx.FileDialog(self, \"Choose a file\", self.dirname, \"\", \"*.*\", wx.OPEN)\n",
    "        if dlg.ShowModal() == wx.ID_OK:\n",
    "            self.filename = dlg.GetFilename()\n",
    "            self.dirname = dlg.GetDirectory()\n",
    "            f = open(os.path.join(self.dirname, self.filename), 'r')\n",
    "            self.control.SetValue(f.read())\n",
    "            f.close()\n",
    "        dlg.Destroy\n",
    "        \n",
    "        \n",
    "app = wx.App(False)\n",
    "frame = MainWindow(None, \"Project\")\n",
    "app.MainLoop()"
   ]
  },
  {
   "cell_type": "code",
   "execution_count": 6,
   "metadata": {
    "collapsed": false
   },
   "outputs": [
    {
     "name": "stdout",
     "output_type": "stream",
     "text": [
      "Traceback (most recent call last):\r\n",
      "  File \"./project.py\", line 55, in OnExit\r\n",
      "    wx.ColourPickerCtrl()\r\n",
      "  File \"/home/csat8786/anaconda2/lib/python2.7/site-packages/wx-3.0-gtk2/wx/_controls.py\", line 6923, in __init__\r\n",
      "    _controls_.ColourPickerCtrl_swiginit(self,_controls_.new_ColourPickerCtrl(*args, **kwargs))\r\n",
      "TypeError: Required argument 'parent' (pos 1) not found\r\n"
     ]
    }
   ],
   "source": [
    "!./project.py"
   ]
  },
  {
   "cell_type": "code",
   "execution_count": 4,
   "metadata": {
    "collapsed": false
   },
   "outputs": [],
   "source": [
    "!chmod +x project.py"
   ]
  },
  {
   "cell_type": "code",
   "execution_count": 2,
   "metadata": {
    "collapsed": false
   },
   "outputs": [],
   "source": []
  },
  {
   "cell_type": "code",
   "execution_count": 31,
   "metadata": {
    "collapsed": false
   },
   "outputs": [],
   "source": [
    "import wx\n",
    "import os\n",
    "from astropy.io import fits\n",
    "from astropy.utils.data import download_file\n",
    "import matplotlib.pyplot as plt\n",
    "from astropy.wcs import WCS\n",
    "from astropy.coordinates import SkyCoord\n",
    "#from astropy.nddata import Cutout2D\n",
    "import numpy as np\n",
    "from matplotlib.backends.backend_wxagg import FigureCanvasWxAgg as FigureCanvas\n",
    "from matplotlib.figure import Figure\n",
    "\n",
    "%matplotlib inline"
   ]
  },
  {
   "cell_type": "code",
   "execution_count": 23,
   "metadata": {
    "collapsed": false
   },
   "outputs": [],
   "source": [
    "\n",
    "image=np.sqrt(1+np.sqrt(fits.getdata('red.fits')+2))"
   ]
  },
  {
   "cell_type": "code",
   "execution_count": 25,
   "metadata": {
    "collapsed": false
   },
   "outputs": [
    {
     "data": {
      "text/plain": [
       "<matplotlib.image.AxesImage at 0x7fa74ceeff90>"
      ]
     },
     "execution_count": 25,
     "metadata": {},
     "output_type": "execute_result"
    },
    {
     "data": {
      "image/png": "[encoded data removed]",
      "text/plain": [
       "<matplotlib.figure.Figure at 0x7fa74c6791d0>"
      ]
     },
     "metadata": {},
     "output_type": "display_data"
    }
   ],
   "source": [
    "plt.imshow(image, cmap='gist_heat', origin='lower')"
   ]
  },
  {
   "cell_type": "code",
   "execution_count": 27,
   "metadata": {
    "collapsed": false
   },
   "outputs": [],
   "source": [
    "image=fits.open(\"red.fits\")"
   ]
  },
  {
   "cell_type": "code",
   "execution_count": 30,
   "metadata": {
    "collapsed": false
   },
   "outputs": [],
   "source": [
    "header=image['PRIMARY'].header\n",
    "ata=image['PRIMARY'].data\n",
    "image.close()"
   ]
  },
  {
   "cell_type": "code",
   "execution_count": 32,
   "metadata": {
    "collapsed": false
   },
   "outputs": [
    {
     "name": "stdout",
     "output_type": "stream",
     "text": [
      "INFO: \n",
      "                Inconsistent SIP distortion information is present in the FITS header and the WCS object:\n",
      "                SIP coefficients were detected, but CTYPE is missing a \"-SIP\" suffix.\n",
      "                astropy.wcs is using the SIP distortion coefficients,\n",
      "                therefore the coordinates calculated here might be incorrect.\n",
      "\n",
      "                If you do not want to apply the SIP distortion coefficients,\n",
      "                please remove the SIP coefficients from the FITS header or the\n",
      "                WCS object.  As an example, if the image is already distortion-corrected\n",
      "                (e.g., drizzled) then distortion components should not apply and the SIP\n",
      "                coefficients should be removed.\n",
      "\n",
      "                While the SIP distortion coefficients are being applied here, if that was indeed the intent,\n",
      "                for consistency please append \"-SIP\" to the CTYPE in the FITS header or the WCS object.\n",
      "\n",
      "                 [astropy.wcs.wcs]\n"
     ]
    }
   ],
   "source": [
    "wcs=WCS(header)"
   ]
  },
  {
   "cell_type": "code",
   "execution_count": 33,
   "metadata": {
    "collapsed": false
   },
   "outputs": [
    {
     "data": {
      "image/png": "[encoded data removed]",
      "text/plain": [
       "<matplotlib.figure.Figure at 0x7fa74c140b90>"
      ]
     },
     "metadata": {},
     "output_type": "display_data"
    }
   ],
   "source": [
    "fig=plt.figure()\n",
    "ax=fig.add_axes([0.1,0.1,0.8,0.8], projection=wcs)\n",
    "ax.set_xlabel('RA')\n",
    "ax.set_ylabel('Dec')\n",
    "ax.imshow(data, cmap='gist_heat', origin='lower')\n",
    "ra=ax.coords[0]\n",
    "ra.set_major_formatter('hh:mm:ss')\n",
    "dec=ax.coords[1]\n",
    "dec.set_major_formatter('dd:mm:ss');"
   ]
  },
  {
   "cell_type": "code",
   "execution_count": 1,
   "metadata": {
    "collapsed": true
   },
   "outputs": [],
   "source": [
    "import wx\n",
    "import os\n",
    "from astropy.io import fits\n",
    "from astropy.utils.data import download_file\n",
    "import matplotlib.pyplot as plt\n",
    "from astropy.wcs import WCS\n",
    "from astropy.coordinates import SkyCoord\n",
    "#from astropy.nddata import Cutout2D\n",
    "import numpy as np\n",
    "from matplotlib.backends.backend_wxagg import FigureCanvasWxAgg as FigureCanvas\n",
    "from matplotlib.figure import Figure\n",
    "\n",
    "%matplotlib inline"
   ]
  },
  {
   "cell_type": "code",
   "execution_count": 81,
   "metadata": {
    "collapsed": false
   },
   "outputs": [
    {
     "name": "stdout",
     "output_type": "stream",
     "text": [
      "147\n",
      "279\n"
     ]
    }
   ],
   "source": [
    "from astroquery.ned import Ned\n",
    "import astropy.units as u\n",
    "images = Ned.get_table(\"NGC 224\")\n",
    "x=images[\"Frequency\"]\n",
    "print(len(x))\n",
    "mask=(x<1e10)*(x>1e8)\n",
    "x[mask]\n",
    "np.where(mask)\n",
    "images[mask]\n",
    "\n",
    "test=Ned.get_image_list(\"NGC 224\")\n",
    "print(len(test))"
   ]
  },
  {
   "cell_type": "code",
   "execution_count": 72,
   "metadata": {
    "collapsed": false
   },
   "outputs": [
    {
     "name": "stdout",
     "output_type": "stream",
     "text": [
      "2009ApJ...693.1392S\n"
     ]
    }
   ],
   "source": [
    "prueba=images[\"Refcode\"][mask]\n",
    "print(prueba[2])\n",
    "#imag=Ned.get_images(prueba[1])\n",
    "imag=Ned.query_refcode(prueba[2], get_query_payload=True)"
   ]
  },
  {
   "cell_type": "code",
   "execution_count": 73,
   "metadata": {
    "collapsed": false
   },
   "outputs": [
    {
     "data": {
      "text/plain": [
       "{'corr_z': u'1',\n",
       " 'extend': 'no',\n",
       " 'hconst': u'73',\n",
       " 'img_stamp': 'NO',\n",
       " 'list_limit': 0,\n",
       " 'obj_sort': u'RA or Longitude',\n",
       " 'of': 'xml_main',\n",
       " 'omegam': 0.27,\n",
       " 'omegav': 0.73,\n",
       " 'out_csys': u'Equatorial',\n",
       " 'out_equinox': u'J2000.0',\n",
       " 'refcode': '2009ApJ...693.1392S',\n",
       " 'search_type': 'Search'}"
      ]
     },
     "execution_count": 73,
     "metadata": {},
     "output_type": "execute_result"
    }
   ],
   "source": []
  },
  {
   "cell_type": "code",
   "execution_count": 80,
   "metadata": {
    "collapsed": false
   },
   "outputs": [
    {
     "data": {
      "text/plain": [
       "[u'http://ned.ipac.caltech.edu/dss1B2/Bb/MESSIER_031:I:IIIaJ:dss1.fits.gz',\n",
       " u'http://ned.ipac.caltech.edu/img/1983MNRAS.205..787U/MESSIER_031:I:HI:u1983:sw16.fits.gz',\n",
       " u'http://ned.ipac.caltech.edu/img/1983MNRAS.205..787U/MESSIER_031:I:HI:u1983:sw19.fits.gz',\n",
       " u'http://ned.ipac.caltech.edu/img/1983MNRAS.205..787U/MESSIER_031:I:HI:u1983:sw20.fits.gz',\n",
       " u'http://ned.ipac.caltech.edu/img/1983MNRAS.205..787U/MESSIER_031:I:HI:u1983:sw21.fits.gz',\n",
       " u'http://ned.ipac.caltech.edu/img/1983MNRAS.205..787U/MESSIER_031:I:HI:u1983:sw22.fits.gz',\n",
       " u'http://ned.ipac.caltech.edu/img/1983MNRAS.205..787U/MESSIER_031:I:HI:u1983:newsum.fits.gz',\n",
       " u'http://ned.ipac.caltech.edu/img/1983MNRAS.205..787U/MESSIER_031:I:HI:u1983:sw10.fits.gz',\n",
       " u'http://ned.ipac.caltech.edu/img/1983MNRAS.205..787U/MESSIER_031:I:HI:u1983:ne06.fits.gz',\n",
       " u'http://ned.ipac.caltech.edu/img/1983MNRAS.205..787U/MESSIER_031:I:HI:u1983:ne05.fits.gz',\n",
       " u'http://ned.ipac.caltech.edu/img/1983MNRAS.205..787U/MESSIER_031:I:HI:u1983:ne14.fits.gz',\n",
       " u'http://ned.ipac.caltech.edu/img/1996ApJS..103...81C/MESSIER_031:I:21cm:chs1996.fits.gz',\n",
       " u'http://ned.ipac.caltech.edu/img/1983MNRAS.205..787U/MESSIER_031:I:HI:u1983:sw06.fits.gz',\n",
       " u'http://ned.ipac.caltech.edu/img/1983MNRAS.205..787U/MESSIER_031:I:HI:u1983:sw05.fits.gz',\n",
       " u'http://ned.ipac.caltech.edu/img/1983MNRAS.205..787U/MESSIER_031:I:HI:u1983:ne11.fits.gz',\n",
       " u'http://ned.ipac.caltech.edu/img/1983MNRAS.205..787U/MESSIER_031:I:HI:u1983:sw14.fits.gz',\n",
       " u'http://ned.ipac.caltech.edu/img/1983MNRAS.205..787U/MESSIER_031:I:HI:u1983:ne01.fits.gz',\n",
       " u'http://ned.ipac.caltech.edu/img/1983MNRAS.205..787U/MESSIER_031:I:HI:u1983:ne08.fits.gz',\n",
       " u'http://ned.ipac.caltech.edu/img/1983MNRAS.205..787U/MESSIER_031:I:HI:u1983:nesum.fits.gz',\n",
       " u'http://ned.ipac.caltech.edu/img/1983MNRAS.205..787U/MESSIER_031:I:HI:u1983:ne18.fits.gz',\n",
       " u'http://ned.ipac.caltech.edu/img/1983MNRAS.205..787U/MESSIER_031:I:HI:u1983:sw17.fits.gz',\n",
       " u'http://ned.ipac.caltech.edu/img/1983MNRAS.205..787U/MESSIER_031:I:HI:u1983:sw08.fits.gz',\n",
       " u'http://ned.ipac.caltech.edu/img/1983MNRAS.205..787U/MESSIER_031:I:HI:u1983:ne04.fits.gz',\n",
       " u'http://ned.ipac.caltech.edu/img/1983MNRAS.205..787U/MESSIER_031:I:HI:u1983:ne16.fits.gz',\n",
       " u'http://ned.ipac.caltech.edu/img/1983MNRAS.205..787U/MESSIER_031:I:HI:u1983:ne17.fits.gz',\n",
       " u'http://ned.ipac.caltech.edu/img/1983MNRAS.205..787U/MESSIER_031:I:HI:u1983:sw13.fits.gz',\n",
       " u'http://ned.ipac.caltech.edu/img/1983MNRAS.205..787U/MESSIER_031:I:HI:u1983:sw04.fits.gz',\n",
       " u'http://ned.ipac.caltech.edu/img/1983MNRAS.205..787U/MESSIER_031:I:HI:u1983:sw01.fits.gz',\n",
       " u'http://ned.ipac.caltech.edu/img/1983MNRAS.205..787U/MESSIER_031:I:HI:u1983:ne21.fits.gz',\n",
       " u'http://ned.ipac.caltech.edu/img/1983MNRAS.205..787U/MESSIER_031:I:HI:u1983:ne20.fits.gz',\n",
       " u'http://ned.ipac.caltech.edu/img/1983MNRAS.205..787U/MESSIER_031:I:HI:u1983:ne19.fits.gz',\n",
       " u'http://ned.ipac.caltech.edu/img/1983MNRAS.205..787U/MESSIER_031:I:HI:u1983:ne15.fits.gz',\n",
       " u'http://ned.ipac.caltech.edu/img/1983MNRAS.205..787U/MESSIER_031:I:HI:u1983:ne09.fits.gz',\n",
       " u'http://ned.ipac.caltech.edu/img/1983MNRAS.205..787U/MESSIER_031:I:HI:u1983:ne03.fits.gz',\n",
       " u'http://ned.ipac.caltech.edu/img/1983MNRAS.205..787U/MESSIER_031:I:HI:u1983:ne13.fits.gz',\n",
       " u'http://ned.ipac.caltech.edu/img/1983MNRAS.205..787U/MESSIER_031:I:HI:u1983:ne10.fits.gz',\n",
       " u'http://ned.ipac.caltech.edu/img/1983MNRAS.205..787U/MESSIER_031:I:HI:u1983:ne12.fits.gz',\n",
       " u'http://ned.ipac.caltech.edu/img/1983MNRAS.205..787U/MESSIER_031:I:HI:u1983:sw18.fits.gz',\n",
       " u'http://ned.ipac.caltech.edu/img/1983MNRAS.205..787U/MESSIER_031:I:HI:u1983:ne02.fits.gz',\n",
       " u'http://ned.ipac.caltech.edu/img/1983MNRAS.205..787U/MESSIER_031:I:HI:u1983:swsum.fits.gz',\n",
       " u'http://ned.ipac.caltech.edu/img/1983MNRAS.205..787U/MESSIER_031:I:HI:u1983:sw23.fits.gz',\n",
       " u'http://ned.ipac.caltech.edu/img/1983MNRAS.205..787U/MESSIER_031:I:HI:u1983:ne07.fits.gz',\n",
       " u'http://ned.ipac.caltech.edu/img/1983MNRAS.205..787U/MESSIER_031:I:HI:u1983:sw15.fits.gz',\n",
       " u'http://ned.ipac.caltech.edu/img/1983MNRAS.205..787U/MESSIER_031:I:HI:u1983:sw12.fits.gz',\n",
       " u'http://ned.ipac.caltech.edu/img/1983MNRAS.205..787U/MESSIER_031:I:HI:u1983:sw09.fits.gz',\n",
       " u'http://ned.ipac.caltech.edu/img/1983MNRAS.205..787U/MESSIER_031:I:HI:u1983:sw07.fits.gz',\n",
       " u'http://ned.ipac.caltech.edu/img/1983MNRAS.205..787U/MESSIER_031:I:HI:u1983:sw03.fits.gz',\n",
       " u'http://ned.ipac.caltech.edu/img/1983MNRAS.205..787U/MESSIER_031:I:HI:u1983:sw11.fits.gz',\n",
       " u'http://ned.ipac.caltech.edu/img/1983MNRAS.205..787U/MESSIER_031:I:HI:u1983:sw02.fits.gz',\n",
       " u'http://ned.ipac.caltech.edu/img/1987ApJS...65..485C/MESSIER_031:I:20cm:c1987.fits.gz',\n",
       " u'http://ned.ipac.caltech.edu/img/1996ApJS..103...81C/MESSIER_031:I:20cm:chs1996.fits.gz',\n",
       " u'http://ned.ipac.caltech.edu/img/1998A+AS..129..329B/MESSIER_031:I:20cm:blh1989.fits.gz',\n",
       " u'http://ned.ipac.caltech.edu/img/1998A+AS..129..329B/MESSIER_031:I:20cm:blh1989_pol.fits.gz',\n",
       " u'http://ned.ipac.caltech.edu/img/2003A+A...398..937B/MESSIER_031:I:6cm:blh1989.fits.gz',\n",
       " u'http://ned.ipac.caltech.edu/img/2003A+A...398..937B/MESSIER_031:I:6cm:blh1989_pol.fits.gz',\n",
       " u'http://ned.ipac.caltech.edu/img/2006A+A...453..459N/MESSIER_031:I:CO:nng2006_int.fits.gz',\n",
       " u'http://ned.ipac.caltech.edu/img/2006A+A...453..459N/MESSIER_031:I:CO:nng2006_vel.fits.gz',\n",
       " u'http://ned.ipac.caltech.edu/img/2002AJ....124.2990K/MESSIER_031:I:E:kpm2002.fits.gz',\n",
       " u'http://ned.ipac.caltech.edu/img/2002AJ....124.2990K/MESSIER_031:I:D:kpm2002.fits.gz',\n",
       " u'http://ned.ipac.caltech.edu/img/2002AJ....124.2990K/MESSIER_031:I:C:kpm2002.fits.gz',\n",
       " u'http://ned.ipac.caltech.edu/img/2002AJ....124.2990K/MESSIER_031:I:A:kpm2002.fits.gz',\n",
       " u'http://ned.ipac.caltech.edu/img/2001AJ....121.2549C/MESSIER_31:I:F222M:cor2001.fits.gz',\n",
       " u'http://ned.ipac.caltech.edu/img/2003AJ....125..525J/2MASS_MESSIER_031_K.fits.gz',\n",
       " u'http://ned.ipac.caltech.edu/img/2003AJ....125..525J/2MASS_MESSIER_031_H.fits.gz',\n",
       " u'http://ned.ipac.caltech.edu/img/2001AJ....121.2549C/MESSIER_31:I:F160W:cor2001.fits.gz',\n",
       " u'http://ned.ipac.caltech.edu/img/2003AJ....125..525J/2MASS_MESSIER_031_J.fits.gz',\n",
       " u'http://ned.ipac.caltech.edu/img/2001AJ....121.2549C/MESSIER_31:I:F110W:cor2001.fits.gz',\n",
       " u'http://ned.ipac.caltech.edu/img/2006AJ....131.2478M/MESSIER_031F3:I:I:moh2006.fits.gz',\n",
       " u'http://ned.ipac.caltech.edu/img/2006AJ....131.2478M/MESSIER_031F1:I:I:moh2006.fits.gz',\n",
       " u'http://ned.ipac.caltech.edu/img/2006AJ....131.2478M/MESSIER_031F7:I:I:moh2006.fits.gz',\n",
       " u'http://ned.ipac.caltech.edu/img/2006AJ....131.2478M/MESSIER_031F4:I:I:moh2006.fits.gz',\n",
       " u'http://ned.ipac.caltech.edu/img/2006AJ....131.2478M/MESSIER_031F2:I:I:moh2006.fits.gz',\n",
       " u'http://ned.ipac.caltech.edu/img/2006AJ....131.2478M/MESSIER_031F8:I:I:moh2006.fits.gz',\n",
       " u'http://ned.ipac.caltech.edu/img/2006AJ....131.2478M/MESSIER_031F10:I:I:moh2006.fits.gz',\n",
       " u'http://ned.ipac.caltech.edu/img/2006AJ....131.2478M/MESSIER_031F6:I:I:moh2006.fits.gz',\n",
       " u'http://ned.ipac.caltech.edu/img/2006AJ....131.2478M/MESSIER_031F5:I:I:moh2006.fits.gz',\n",
       " u'http://ned.ipac.caltech.edu/img/2006AJ....131.2478M/MESSIER_031F9:I:I:moh2006.fits.gz',\n",
       " u'http://ned.ipac.caltech.edu/img/2007AJ....134.2474M/MESSIER_031F2:I:S2:mmo2007.fits.gz',\n",
       " u'http://ned.ipac.caltech.edu/img/2007AJ....134.2474M/MESSIER_031F6:I:S2:mmo2007.fits.gz',\n",
       " u'http://ned.ipac.caltech.edu/img/2007AJ....134.2474M/MESSIER_031F9:I:S2:mmo2007.fits.gz',\n",
       " u'http://ned.ipac.caltech.edu/img/2007AJ....134.2474M/MESSIER_031F5:I:S2:mmo2007.fits.gz',\n",
       " u'http://ned.ipac.caltech.edu/img/2007AJ....134.2474M/MESSIER_031F4:I:S2:mmo2007.fits.gz',\n",
       " u'http://ned.ipac.caltech.edu/img/2007AJ....134.2474M/MESSIER_031F3:I:S2:mmo2007.fits.gz',\n",
       " u'http://ned.ipac.caltech.edu/img/2007AJ....134.2474M/MESSIER_031F7:I:S2:mmo2007.fits.gz',\n",
       " u'http://ned.ipac.caltech.edu/img/2007AJ....134.2474M/MESSIER_031F10:I:S2:mmo2007.fits.gz',\n",
       " u'http://ned.ipac.caltech.edu/img/2007AJ....134.2474M/MESSIER_031F8:I:S2:mmo2007.fits.gz',\n",
       " u'http://ned.ipac.caltech.edu/img/2007AJ....134.2474M/MESSIER_031F1:I:S2:mmo2007.fits.gz',\n",
       " u'http://ned.ipac.caltech.edu/img/2007AJ....134.2474M/MESSIER_031F1:I:Ha:mmo2007.fits.gz',\n",
       " u'http://ned.ipac.caltech.edu/img/2007AJ....134.2474M/MESSIER_031F8:I:Ha:mmo2007.fits.gz',\n",
       " u'http://ned.ipac.caltech.edu/img/2007AJ....134.2474M/MESSIER_031F7:I:Ha:mmo2007.fits.gz',\n",
       " u'http://ned.ipac.caltech.edu/img/2007AJ....134.2474M/MESSIER_031F6:I:Ha:mmo2007.fits.gz',\n",
       " u'http://ned.ipac.caltech.edu/img/2007AJ....134.2474M/MESSIER_031F5:I:Ha:mmo2007.fits.gz',\n",
       " u'http://ned.ipac.caltech.edu/img/2007AJ....134.2474M/MESSIER_031F3:I:Ha:mmo2007.fits.gz',\n",
       " u'http://ned.ipac.caltech.edu/img/2007AJ....134.2474M/MESSIER_031F4:I:Ha:mmo2007.fits.gz',\n",
       " u'http://ned.ipac.caltech.edu/img/2007AJ....134.2474M/MESSIER_031F2:I:Ha:mmo2007.fits.gz',\n",
       " u'http://ned.ipac.caltech.edu/img/2007AJ....134.2474M/MESSIER_031F9:I:Ha:mmo2007.fits.gz',\n",
       " u'http://ned.ipac.caltech.edu/img/2007AJ....134.2474M/MESSIER_031F10:I:Ha:mmo2007.fits.gz',\n",
       " u'http://ned.ipac.caltech.edu/img/2006AJ....131.2478M/MESSIER_031F7:I:R:moh2006.fits.gz',\n",
       " u'http://ned.ipac.caltech.edu/img/2006AJ....131.2478M/MESSIER_031F8:I:R:moh2006.fits.gz',\n",
       " u'http://ned.ipac.caltech.edu/img/2006AJ....131.2478M/MESSIER_031F9:I:R:moh2006.fits.gz',\n",
       " u'http://ned.ipac.caltech.edu/img/2006AJ....131.2478M/MESSIER_031F3:I:R:moh2006.fits.gz',\n",
       " u'http://ned.ipac.caltech.edu/img/2006AJ....131.2478M/MESSIER_031F10:I:R:moh2006.fits.gz',\n",
       " u'http://ned.ipac.caltech.edu/img/2006AJ....131.2478M/MESSIER_031F4:I:R:moh2006.fits.gz',\n",
       " u'http://ned.ipac.caltech.edu/img/2006AJ....131.2478M/MESSIER_031F2:I:R:moh2006.fits.gz',\n",
       " u'http://ned.ipac.caltech.edu/img/2006AJ....131.2478M/MESSIER_031F6:I:R:moh2006.fits.gz',\n",
       " u'http://ned.ipac.caltech.edu/img/2006AJ....131.2478M/MESSIER_031F1:I:R:moh2006.fits.gz',\n",
       " u'http://ned.ipac.caltech.edu/img/2006AJ....131.2478M/MESSIER_031F5:I:R:moh2006.fits.gz',\n",
       " u'http://ned.ipac.caltech.edu/img/1997UITVi.U..K....C/MESSIER_031:I:R:c1997:ne.r3x180s.fits.gz',\n",
       " u'http://ned.ipac.caltech.edu/img/1997UITVi.U..K....C/MESSIER_031:I:R:c1997:center.r3x180s.fits.gz',\n",
       " u'http://ned.ipac.caltech.edu/img/1997UITVi.U..K....C/MESSIER_031:I:R:c1997:sw.r3x180s.fits.gz',\n",
       " u'http://ned.ipac.caltech.edu/img/1997UITVi.U..K....C/MESSIER_031:I:R:c1997:se.r3x180s.fits.gz',\n",
       " u'http://ned.ipac.caltech.edu/img/1997UITVi.U..K....C/MESSIER_031:I:V:c1997:se.v3x300s.fits.gz',\n",
       " u'http://ned.ipac.caltech.edu/img/1997UITVi.U..K....C/MESSIER_031:I:V:c1997:nw.v3x300s.fits.gz',\n",
       " u'http://ned.ipac.caltech.edu/img/1997UITVi.U..K....C/MESSIER_031:I:V:c1997:center.v3x300s.fits.gz',\n",
       " u'http://ned.ipac.caltech.edu/img/1997UITVi.U..K....C/MESSIER_031:I:V:c1997:ne.v3x300s.fits.gz',\n",
       " u'http://ned.ipac.caltech.edu/img/1997UITVi.U..K....C/MESSIER_031:I:V:c1997:sw.v3x300s.fits.gz',\n",
       " u'http://ned.ipac.caltech.edu/img/2006AJ....131.2478M/MESSIER_031F10:I:V:moh2006.fits.gz',\n",
       " u'http://ned.ipac.caltech.edu/img/2006AJ....131.2478M/MESSIER_031F6:I:V:moh2006.fits.gz',\n",
       " u'http://ned.ipac.caltech.edu/img/2006AJ....131.2478M/MESSIER_031F9:I:V:moh2006.fits.gz',\n",
       " u'http://ned.ipac.caltech.edu/img/2006AJ....131.2478M/MESSIER_031F8:I:V:moh2006.fits.gz',\n",
       " u'http://ned.ipac.caltech.edu/img/2006AJ....131.2478M/MESSIER_031F7:I:V:moh2006.fits.gz',\n",
       " u'http://ned.ipac.caltech.edu/img/2006AJ....131.2478M/MESSIER_031F5:I:V:moh2006.fits.gz',\n",
       " u'http://ned.ipac.caltech.edu/img/2006AJ....131.2478M/MESSIER_031F3:I:V:moh2006.fits.gz',\n",
       " u'http://ned.ipac.caltech.edu/img/2006AJ....131.2478M/MESSIER_031F2:I:V:moh2006.fits.gz',\n",
       " u'http://ned.ipac.caltech.edu/img/2006AJ....131.2478M/MESSIER_031F1:I:V:moh2006.fits.gz',\n",
       " u'http://ned.ipac.caltech.edu/img/2006AJ....131.2478M/MESSIER_031F4:I:V:moh2006.fits.gz',\n",
       " u'http://ned.ipac.caltech.edu/img/2007AJ....134.2474M/MESSIER_031F10:I:O3:mmo2007.fits.gz',\n",
       " u'http://ned.ipac.caltech.edu/img/2007AJ....134.2474M/MESSIER_031F7:I:O3:mmo2007.fits.gz',\n",
       " u'http://ned.ipac.caltech.edu/img/2007AJ....134.2474M/MESSIER_031F5:I:O3:mmo2007.fits.gz',\n",
       " u'http://ned.ipac.caltech.edu/img/2007AJ....134.2474M/MESSIER_031F1:I:O3:mmo2007.fits.gz',\n",
       " u'http://ned.ipac.caltech.edu/img/2007AJ....134.2474M/MESSIER_031F4:I:O3:mmo2007.fits.gz',\n",
       " u'http://ned.ipac.caltech.edu/img/2007AJ....134.2474M/MESSIER_031F2:I:O3:mmo2007.fits.gz',\n",
       " u'http://ned.ipac.caltech.edu/img/2007AJ....134.2474M/MESSIER_031F3:I:O3:mmo2007.fits.gz',\n",
       " u'http://ned.ipac.caltech.edu/img/2007AJ....134.2474M/MESSIER_031F8:I:O3:mmo2007.fits.gz',\n",
       " u'http://ned.ipac.caltech.edu/img/2007AJ....134.2474M/MESSIER_031F9:I:O3:mmo2007.fits.gz',\n",
       " u'http://ned.ipac.caltech.edu/img/2007AJ....134.2474M/MESSIER_031F6:I:O3:mmo2007.fits.gz',\n",
       " u'http://ned.ipac.caltech.edu/img/2006AJ....131.2478M/MESSIER_031F3:I:B:moh2006.fits.gz',\n",
       " u'http://ned.ipac.caltech.edu/img/2006AJ....131.2478M/MESSIER_031F9:I:B:moh2006.fits.gz',\n",
       " u'http://ned.ipac.caltech.edu/img/2006AJ....131.2478M/MESSIER_031F10:I:B:moh2006.fits.gz',\n",
       " u'http://ned.ipac.caltech.edu/img/2006AJ....131.2478M/MESSIER_031F6:I:B:moh2006.fits.gz',\n",
       " u'http://ned.ipac.caltech.edu/img/2006AJ....131.2478M/MESSIER_031F2:I:B:moh2006.fits.gz',\n",
       " u'http://ned.ipac.caltech.edu/img/2006AJ....131.2478M/MESSIER_031F8:I:B:moh2006.fits.gz',\n",
       " u'http://ned.ipac.caltech.edu/img/2006AJ....131.2478M/MESSIER_031F4:I:B:moh2006.fits.gz',\n",
       " u'http://ned.ipac.caltech.edu/img/2006AJ....131.2478M/MESSIER_031F1:I:B:moh2006.fits.gz',\n",
       " u'http://ned.ipac.caltech.edu/img/2006AJ....131.2478M/MESSIER_031F5:I:B:moh2006.fits.gz',\n",
       " u'http://ned.ipac.caltech.edu/img/2006AJ....131.2478M/MESSIER_031F7:I:B:moh2006.fits.gz',\n",
       " u'http://ned.ipac.caltech.edu/img/1997UITVi.U..K....C/MESSIER_031:I:B:c1997:ne.b3x600s.fits.gz',\n",
       " u'http://ned.ipac.caltech.edu/img/1997UITVi.U..K....C/MESSIER_031:I:B:c1997:center.b3x600s.fits.gz',\n",
       " u'http://ned.ipac.caltech.edu/img/1997UITVi.U..K....C/MESSIER_031:I:B:c1997:se.b3x600s.fits.gz',\n",
       " u'http://ned.ipac.caltech.edu/img/1997UITVi.U..K....C/MESSIER_031:I:B:c1997:sw.b3x600s.fits.gz',\n",
       " u'http://ned.ipac.caltech.edu/img/1997UITVi.U..K....C/MESSIER_031:I:B:c1997:nw.b3x600s.fits.gz',\n",
       " u'http://ned.ipac.caltech.edu/img/2006AJ....131.2478M/MESSIER_031F9:I:U:moh2006.fits.gz',\n",
       " u'http://ned.ipac.caltech.edu/img/2006AJ....131.2478M/MESSIER_031F7:I:U:moh2006.fits.gz',\n",
       " u'http://ned.ipac.caltech.edu/img/2006AJ....131.2478M/MESSIER_031F8:I:U:moh2006.fits.gz',\n",
       " u'http://ned.ipac.caltech.edu/img/2006AJ....131.2478M/MESSIER_031F10:I:U:moh2006.fits.gz',\n",
       " u'http://ned.ipac.caltech.edu/img/2006AJ....131.2478M/MESSIER_031F2:I:U:moh2006.fits.gz',\n",
       " u'http://ned.ipac.caltech.edu/img/2006AJ....131.2478M/MESSIER_031F3:I:U:moh2006.fits.gz',\n",
       " u'http://ned.ipac.caltech.edu/img/2006AJ....131.2478M/MESSIER_031F5:I:U:moh2006.fits.gz',\n",
       " u'http://ned.ipac.caltech.edu/img/2006AJ....131.2478M/MESSIER_031F6:I:U:moh2006.fits.gz',\n",
       " u'http://ned.ipac.caltech.edu/img/2006AJ....131.2478M/MESSIER_031F4:I:U:moh2006.fits.gz',\n",
       " u'http://ned.ipac.caltech.edu/img/2006AJ....131.2478M/MESSIER_031F1:I:U:moh2006.fits.gz',\n",
       " u'http://ned.ipac.caltech.edu/img/2007ApJS..173..185G/MESSIER_031:I:NUV:g2006.fits.gz',\n",
       " u'http://ned.ipac.caltech.edu/img/2007ApJS..173..185G/MESSIER_031:I:FUV:g2006.fits.gz',\n",
       " u'http://ned.ipac.caltech.edu/img/1995RXCD3.T...0000C/p011n41l:I:0.1-2.4keV:cop1995.fits.gz',\n",
       " u'http://ned.ipac.caltech.edu/img/1995RXCD3.T...0000C/p011n42b:I:0.1-2.4keV:cop1995.fits.gz',\n",
       " u'http://ned.ipac.caltech.edu/img/1995RXCD4.T...0000C/p010n40c:I:0.1-2.4keV:cop1995.fits.gz',\n",
       " u'http://ned.ipac.caltech.edu/img/1995RXCD3.T...0000C/p009n40a:I:0.1-2.4keV:cop1995.fits.gz',\n",
       " u'http://ned.ipac.caltech.edu/img/1994RXCD2.T...0000C/p011n42c:I:0.1-2.4keV:cop1994.fits.gz',\n",
       " u'http://ned.ipac.caltech.edu/img/1994RXCD2.T...0000C/p011n42b:I:0.1-2.4keV:cop1994.fits.gz',\n",
       " u'http://ned.ipac.caltech.edu/img/1994RXCD2.T...0000C/p011n42a:I:0.1-2.4keV:cop1994.fits.gz',\n",
       " u'http://ned.ipac.caltech.edu/img/1994RXCD2.T...0000C/p011n41b:I:0.1-2.4keV:cop1994.fits.gz',\n",
       " u'http://ned.ipac.caltech.edu/img/1994RXCD2.T...0000C/p010n41f:I:0.1-2.4keV:cop1994.fits.gz',\n",
       " u'http://ned.ipac.caltech.edu/img/1994RXCD2.T...0000C/p010n41e:I:0.1-2.4keV:cop1994.fits.gz',\n",
       " u'http://ned.ipac.caltech.edu/img/1994RXCD2.T...0000C/p010n41d:I:0.1-2.4keV:cop1994.fits.gz',\n",
       " u'http://ned.ipac.caltech.edu/img/1994RXCD2.T...0000C/p010n41c:I:0.1-2.4keV:cop1994.fits.gz',\n",
       " u'http://ned.ipac.caltech.edu/img/1994RXCD2.T...0000C/p010n41b:I:0.1-2.4keV:cop1994.fits.gz',\n",
       " u'http://ned.ipac.caltech.edu/img/1994RXCD2.T...0000C/p010n41a:I:0.1-2.4keV:cop1994.fits.gz',\n",
       " u'http://ned.ipac.caltech.edu/img/1994RXCD2.T...0000C/p010n40l:I:0.1-2.4keV:cop1994.fits.gz',\n",
       " u'http://ned.ipac.caltech.edu/img/1994RXCD2.T...0000C/p010n40k:I:0.1-2.4keV:cop1994.fits.gz',\n",
       " u'http://ned.ipac.caltech.edu/img/1994RXCD2.T...0000C/p010n40g:I:0.1-2.4keV:cop1994.fits.gz',\n",
       " u'http://ned.ipac.caltech.edu/img/1994RXCD2.T...0000C/p009n40j:I:0.1-2.4keV:cop1994.fits.gz',\n",
       " u'http://ned.ipac.caltech.edu/img/1994RXCD2.T...0000C/p009n40i:I:0.1-2.4keV:cop1994.fits.gz',\n",
       " u'http://ned.ipac.caltech.edu/img/1994RXCD2.T...0000C/p009n40f:I:0.1-2.4keV:cop1994.fits.gz',\n",
       " u'http://ned.ipac.caltech.edu/img/1994RXCD2.T...0000C/p009n40e:I:0.1-2.4keV:cop1994.fits.gz',\n",
       " u'http://ned.ipac.caltech.edu/img/1994RXCD2.T...0000C/p009n40d:I:0.1-2.4keV:cop1994.fits.gz',\n",
       " u'http://ned.ipac.caltech.edu/img/1996RXCD6.T...0000C/p011n41a:I:0.1-2.4keV:cps1996.fits.gz',\n",
       " u'http://ned.ipac.caltech.edu/img/1995RXCD4.T...0000C/p011n41a:I:0.1-2.4keV:cop1995.fits.gz',\n",
       " u'http://ned.ipac.caltech.edu/img/1996RXCD6.T...0000C/p011n42a:I:0.1-2.4keV:cps1996.fits.gz',\n",
       " u'http://ned.ipac.caltech.edu/img/1994RXCD2.T...0000C/p009n40a:I:0.1-2.4keV:cop1994.fits.gz',\n",
       " u'http://ned.ipac.caltech.edu/img/1995RXCD3.T...0000C/p011n41n:I:0.1-2.4keV:cop1995.fits.gz',\n",
       " u'http://ned.ipac.caltech.edu/img/1995RXCD4.T...0000C/p010n40b:I:0.1-2.4keV:cop1995.fits.gz',\n",
       " u'http://ned.ipac.caltech.edu/img/1995RXCD4.T...0000C/p010n41f:I:0.1-2.4keV:cop1995.fits.gz',\n",
       " u'http://ned.ipac.caltech.edu/img/1995RXCD4.T...0000C/p011n41b:I:0.1-2.4keV:cop1995.fits.gz',\n",
       " u'http://ned.ipac.caltech.edu/img/1996RXCD6.T...0000C/p010n40a:I:0.1-2.4keV:cps1996.fits.gz',\n",
       " u'http://ned.ipac.caltech.edu/img/1994RXCD2.T...0000C/p009n40h:I:0.1-2.4keV:cop1994.fits.gz',\n",
       " u'http://ned.ipac.caltech.edu/img/1995RXCD3.T...0000C/p009n40c:I:0.1-2.4keV:cop1995.fits.gz',\n",
       " u'http://ned.ipac.caltech.edu/img/1995RXCD3.T...0000C/p011n42i:I:0.1-2.4keV:cop1995.fits.gz',\n",
       " u'http://ned.ipac.caltech.edu/img/1995RXCD4.T...0000C/p010n41a:I:0.1-2.4keV:cop1995.fits.gz',\n",
       " u'http://ned.ipac.caltech.edu/img/1998RXCD8.T...0000C/p010n41a:I:0.1-2.4keV:cps1998.fits.gz',\n",
       " u'http://ned.ipac.caltech.edu/img/1994RXCD2.T...0000C/p009n40c:I:0.1-2.4keV:cop1994.fits.gz',\n",
       " u'http://ned.ipac.caltech.edu/img/1995RXCD3.T...0000C/p011n41o:I:0.1-2.4keV:cop1995.fits.gz',\n",
       " u'http://ned.ipac.caltech.edu/img/1995RXCD3.T...0000C/p010n41f:I:0.1-2.4keV:cop1995.fits.gz',\n",
       " u'http://ned.ipac.caltech.edu/img/1995RXCD3.T...0000C/p010n41i:I:0.1-2.4keV:cop1995.fits.gz',\n",
       " u'http://ned.ipac.caltech.edu/img/1995RXCD3.T...0000C/p010n41h:I:0.1-2.4keV:cop1995.fits.gz',\n",
       " u'http://ned.ipac.caltech.edu/img/1998RXCD8.T...0000C/h011n42a:I:0.1-2.4keV:cps1998.fits.gz',\n",
       " u'http://ned.ipac.caltech.edu/img/1998RXCD8.T...0000C/h010n41c:I:0.1-2.4keV:cps1998.fits.gz',\n",
       " u'http://ned.ipac.caltech.edu/img/1998RXCD8.T...0000C/h010n41b:I:0.1-2.4keV:cps1998.fits.gz',\n",
       " u'http://ned.ipac.caltech.edu/img/1995RXCD4.T...0000C/h010n41a:I:0.1-2.4keV:cop1995.fits.gz',\n",
       " u'http://ned.ipac.caltech.edu/img/1998RXCD8.T...0000C/h010n41a:I:0.1-2.4keV:cps1998.fits.gz',\n",
       " u'http://ned.ipac.caltech.edu/img/1994RXCD2.T...0000C/p010n40h:I:0.1-2.4keV:cop1994.fits.gz',\n",
       " u'http://ned.ipac.caltech.edu/img/1994RXCD2.T...0000C/p010n40j:I:0.1-2.4keV:cop1994.fits.gz',\n",
       " u'http://ned.ipac.caltech.edu/img/1994RXCD2.T...0000C/p010n40o:I:0.1-2.4keV:cop1994.fits.gz',\n",
       " u'http://ned.ipac.caltech.edu/img/1994RXCD2.T...0000C/p010n40p:I:0.1-2.4keV:cop1994.fits.gz',\n",
       " u'http://ned.ipac.caltech.edu/img/1994RXCD2.T...0000C/p010n41g:I:0.1-2.4keV:cop1994.fits.gz',\n",
       " u'http://ned.ipac.caltech.edu/img/1995RXCD3.T...0000C/p010n40b:I:0.1-2.4keV:cop1995.fits.gz',\n",
       " u'http://ned.ipac.caltech.edu/img/1995RXCD3.T...0000C/p010n40c:I:0.1-2.4keV:cop1995.fits.gz',\n",
       " u'http://ned.ipac.caltech.edu/img/1995RXCD3.T...0000C/p010n41b:I:0.1-2.4keV:cop1995.fits.gz',\n",
       " u'http://ned.ipac.caltech.edu/img/1995RXCD3.T...0000C/p011n40a:I:0.1-2.4keV:cop1995.fits.gz',\n",
       " u'http://ned.ipac.caltech.edu/img/1995RXCD3.T...0000C/p011n41a:I:0.1-2.4keV:cop1995.fits.gz',\n",
       " u'http://ned.ipac.caltech.edu/img/1995RXCD3.T...0000C/p011n41d:I:0.1-2.4keV:cop1995.fits.gz',\n",
       " u'http://ned.ipac.caltech.edu/img/1995RXCD3.T...0000C/p011n41f:I:0.1-2.4keV:cop1995.fits.gz',\n",
       " u'http://ned.ipac.caltech.edu/img/1995RXCD3.T...0000C/p011n41h:I:0.1-2.4keV:cop1995.fits.gz',\n",
       " u'http://ned.ipac.caltech.edu/img/1995RXCD3.T...0000C/p011n41k:I:0.1-2.4keV:cop1995.fits.gz',\n",
       " u'http://ned.ipac.caltech.edu/img/1995RXCD3.T...0000C/p011n41m:I:0.1-2.4keV:cop1995.fits.gz',\n",
       " u'http://ned.ipac.caltech.edu/img/1996RXCD6.T...0000C/p009n40a:I:0.1-2.4keV:cps1996.fits.gz',\n",
       " u'http://ned.ipac.caltech.edu/img/1996RXCD6.T...0000C/p010n41a:I:0.1-2.4keV:cps1996.fits.gz',\n",
       " u'http://ned.ipac.caltech.edu/img/1996RXCD6.T...0000C/p010n41b:I:0.1-2.4keV:cps1996.fits.gz',\n",
       " u'http://ned.ipac.caltech.edu/img/1994RXCD2.T...0000C/p009n40b:I:0.1-2.4keV:cop1994.fits.gz',\n",
       " u'http://ned.ipac.caltech.edu/img/1994RXCD2.T...0000C/p009n40g:I:0.1-2.4keV:cop1994.fits.gz',\n",
       " u'http://ned.ipac.caltech.edu/img/1994RXCD2.T...0000C/p010n40i:I:0.1-2.4keV:cop1994.fits.gz',\n",
       " u'http://ned.ipac.caltech.edu/img/1994RXCD2.T...0000C/p010n40m:I:0.1-2.4keV:cop1994.fits.gz',\n",
       " u'http://ned.ipac.caltech.edu/img/1994RXCD2.T...0000C/p010n40n:I:0.1-2.4keV:cop1994.fits.gz',\n",
       " u'http://ned.ipac.caltech.edu/img/1994RXCD2.T...0000C/p010n41h:I:0.1-2.4keV:cop1994.fits.gz',\n",
       " u'http://ned.ipac.caltech.edu/img/1994RXCD2.T...0000C/p011n41a:I:0.1-2.4keV:cop1994.fits.gz',\n",
       " u'http://ned.ipac.caltech.edu/img/1994RXCD2.T...0000C/p011n41c:I:0.1-2.4keV:cop1994.fits.gz',\n",
       " u'http://ned.ipac.caltech.edu/img/1995RXCD3.T...0000C/p009n39a:I:0.1-2.4keV:cop1995.fits.gz',\n",
       " u'http://ned.ipac.caltech.edu/img/1995RXCD3.T...0000C/p010n41a:I:0.1-2.4keV:cop1995.fits.gz',\n",
       " u'http://ned.ipac.caltech.edu/img/1994RXCD2.T...0000C/p010n40e:I:0.1-2.4keV:cop1994.fits.gz',\n",
       " u'http://ned.ipac.caltech.edu/img/1994RXCD2.T...0000C/p010n40f:I:0.1-2.4keV:cop1994.fits.gz',\n",
       " u'http://ned.ipac.caltech.edu/img/1995RXCD3.T...0000C/p010n41d:I:0.1-2.4keV:cop1995.fits.gz',\n",
       " u'http://ned.ipac.caltech.edu/img/1995RXCD4.T...0000C/p011n41c:I:0.1-2.4keV:cop1995.fits.gz',\n",
       " u'http://ned.ipac.caltech.edu/img/1995RXCD4.T...0000C/p010n41b:I:0.1-2.4keV:cop1995.fits.gz',\n",
       " u'http://ned.ipac.caltech.edu/img/1995RXCD4.T...0000C/p010n40a:I:0.1-2.4keV:cop1995.fits.gz',\n",
       " u'http://ned.ipac.caltech.edu/img/1995RXCD3.T...0000C/p011n42j:I:0.1-2.4keV:cop1995.fits.gz',\n",
       " u'http://ned.ipac.caltech.edu/img/1995RXCD3.T...0000C/p011n42h:I:0.1-2.4keV:cop1995.fits.gz',\n",
       " u'http://ned.ipac.caltech.edu/img/1995RXCD3.T...0000C/p011n42g:I:0.1-2.4keV:cop1995.fits.gz',\n",
       " u'http://ned.ipac.caltech.edu/img/1995RXCD3.T...0000C/p011n42f:I:0.1-2.4keV:cop1995.fits.gz',\n",
       " u'http://ned.ipac.caltech.edu/img/1995RXCD3.T...0000C/p011n42e:I:0.1-2.4keV:cop1995.fits.gz',\n",
       " u'http://ned.ipac.caltech.edu/img/1995RXCD3.T...0000C/p011n42d:I:0.1-2.4keV:cop1995.fits.gz',\n",
       " u'http://ned.ipac.caltech.edu/img/1995RXCD3.T...0000C/p011n42c:I:0.1-2.4keV:cop1995.fits.gz',\n",
       " u'http://ned.ipac.caltech.edu/img/1995RXCD3.T...0000C/p011n42a:I:0.1-2.4keV:cop1995.fits.gz',\n",
       " u'http://ned.ipac.caltech.edu/img/1995RXCD3.T...0000C/p011n41r:I:0.1-2.4keV:cop1995.fits.gz',\n",
       " u'http://ned.ipac.caltech.edu/img/1995RXCD3.T...0000C/p011n41q:I:0.1-2.4keV:cop1995.fits.gz',\n",
       " u'http://ned.ipac.caltech.edu/img/1995RXCD3.T...0000C/p011n41p:I:0.1-2.4keV:cop1995.fits.gz',\n",
       " u'http://ned.ipac.caltech.edu/img/1995RXCD3.T...0000C/p011n41j:I:0.1-2.4keV:cop1995.fits.gz',\n",
       " u'http://ned.ipac.caltech.edu/img/1995RXCD3.T...0000C/p011n41i:I:0.1-2.4keV:cop1995.fits.gz',\n",
       " u'http://ned.ipac.caltech.edu/img/1995RXCD3.T...0000C/p011n41g:I:0.1-2.4keV:cop1995.fits.gz',\n",
       " u'http://ned.ipac.caltech.edu/img/1995RXCD3.T...0000C/p011n41e:I:0.1-2.4keV:cop1995.fits.gz',\n",
       " u'http://ned.ipac.caltech.edu/img/1995RXCD3.T...0000C/p011n41c:I:0.1-2.4keV:cop1995.fits.gz',\n",
       " u'http://ned.ipac.caltech.edu/img/1995RXCD3.T...0000C/p011n41b:I:0.1-2.4keV:cop1995.fits.gz',\n",
       " u'http://ned.ipac.caltech.edu/img/1995RXCD3.T...0000C/p010n41j:I:0.1-2.4keV:cop1995.fits.gz',\n",
       " u'http://ned.ipac.caltech.edu/img/1995RXCD3.T...0000C/p010n41g:I:0.1-2.4keV:cop1995.fits.gz',\n",
       " u'http://ned.ipac.caltech.edu/img/1995RXCD3.T...0000C/p010n41e:I:0.1-2.4keV:cop1995.fits.gz',\n",
       " u'http://ned.ipac.caltech.edu/img/1995RXCD3.T...0000C/p010n41c:I:0.1-2.4keV:cop1995.fits.gz',\n",
       " u'http://ned.ipac.caltech.edu/img/1995RXCD3.T...0000C/p010n40a:I:0.1-2.4keV:cop1995.fits.gz',\n",
       " u'http://ned.ipac.caltech.edu/img/1995RXCD3.T...0000C/p009n40e:I:0.1-2.4keV:cop1995.fits.gz',\n",
       " u'http://ned.ipac.caltech.edu/img/1995RXCD3.T...0000C/p009n40d:I:0.1-2.4keV:cop1995.fits.gz',\n",
       " u'http://ned.ipac.caltech.edu/img/1995RXCD3.T...0000C/p009n40b:I:0.1-2.4keV:cop1995.fits.gz',\n",
       " u'http://ned.ipac.caltech.edu/img/1995RXCD4.T...0000C/p010n41c:I:0.1-2.4keV:cop1995.fits.gz',\n",
       " u'http://ned.ipac.caltech.edu/img/1995RXCD4.T...0000C/p010n41d:I:0.1-2.4keV:cop1995.fits.gz',\n",
       " u'http://ned.ipac.caltech.edu/img/1995RXCD4.T...0000C/p010n41e:I:0.1-2.4keV:cop1995.fits.gz',\n",
       " u'http://ned.ipac.caltech.edu/img/1997RXCD7.T...0000C/p011n42a:I:0.1-2.4keV:cps1997.fits.gz',\n",
       " u'http://ned.ipac.caltech.edu/img/2001ApJS..132..129M/NGC_0224:I:NUV:mof2001.fits.gz',\n",
       " u'http://ned.ipac.caltech.edu/img/2001ApJS..132..129M/NGC_0221:I:NUV:mof2001.fits.gz',\n",
       " u'http://ned.ipac.caltech.edu/img/1996ApJS..107..215M/NGC_0224:I:F220W:m1996.fits.gz',\n",
       " u'http://ned.ipac.caltech.edu/img/2001ApJS..132..129M/NGC_0224:I:FUV:mof2001.fits.gz',\n",
       " u'http://ned.ipac.caltech.edu/img/2001ApJS..132..129M/NGC_0221:I:FUV:mof2001.fits.gz',\n",
       " u'http://ned.ipac.caltech.edu/img/1994RXCD2.T...0000C/h011n41a:I:0.1-2.4keV:cop1994.fits.gz',\n",
       " u'http://ned.ipac.caltech.edu/img/1994RXCD2.T...0000C/h011n41b:I:0.1-2.4keV:cop1994.fits.gz']"
      ]
     },
     "execution_count": 80,
     "metadata": {},
     "output_type": "execute_result"
    }
   ],
   "source": [
    "image = Ned.get_image_list(\"NGC 224\")\n",
    "image"
   ]
  },
  {
   "cell_type": "code",
   "execution_count": 101,
   "metadata": {
    "collapsed": false
   },
   "outputs": [
    {
     "data": {
      "text/html": [
       "&lt;Table masked=True length=1&gt;\n",
       "<table id=\"table140083847029840\" class=\"table-striped table-bordered table-condensed\">\n",
       "<thead><tr><th>MAIN_ID</th><th>RA</th><th>DEC</th><th>RA_PREC</th><th>DEC_PREC</th><th>COO_ERR_MAJA</th><th>COO_ERR_MINA</th><th>COO_ERR_ANGLE</th><th>COO_QUAL</th><th>COO_WAVELENGTH</th><th>COO_BIBCODE</th></tr></thead>\n",
       "<thead><tr><th></th><th>&quot;h:m:s&quot;</th><th>&quot;d:m:s&quot;</th><th></th><th></th><th>mas</th><th>mas</th><th>deg</th><th></th><th></th><th></th></tr></thead>\n",
       "<thead><tr><th>object</th><th>unicode13</th><th>unicode13</th><th>int16</th><th>int16</th><th>float32</th><th>float32</th><th>int16</th><th>unicode1</th><th>unicode1</th><th>object</th></tr></thead>\n",
       "<tr><td>M  31</td><td>00 42 44.330</td><td>+41 16 07.50</td><td>7</td><td>7</td><td>--</td><td>--</td><td>0</td><td>B</td><td>I</td><td>2006AJ....131.1163S</td></tr>\n",
       "</table>"
      ],
      "text/plain": [
       "<Table masked=True length=1>\n",
       "MAIN_ID      RA          DEC      ... COO_WAVELENGTH     COO_BIBCODE    \n",
       "          \"h:m:s\"      \"d:m:s\"    ...                                   \n",
       " object  unicode13    unicode13   ...    unicode1           object      \n",
       "------- ------------ ------------ ... -------------- -------------------\n",
       "  M  31 00 42 44.330 +41 16 07.50 ...              I 2006AJ....131.1163S"
      ]
     },
     "execution_count": 101,
     "metadata": {},
     "output_type": "execute_result"
    }
   ],
   "source": [
    "from astroquery.simbad import Simbad\n",
    "result_table = Simbad.query_object(\"ngc224\")\n",
    "result_table"
   ]
  },
  {
   "cell_type": "code",
   "execution_count": 107,
   "metadata": {
    "collapsed": false
   },
   "outputs": [
    {
     "name": "stdout",
     "output_type": "stream",
     "text": [
      "Downloading http://skyview.gsfc.nasa.gov/tempspace/fits/skv8542869419284.fits [Done]\n"
     ]
    },
    {
     "data": {
      "text/plain": [
       "[[<astropy.io.fits.hdu.image.PrimaryHDU object at 0x7f67cfad87d0>]]"
      ]
     },
     "execution_count": 107,
     "metadata": {},
     "output_type": "execute_result"
    }
   ],
   "source": [
    "from astroquery.skyview import SkyView\n",
    "path=SkyView.get_images(position='ngc224', survey=['SDSSg'])\n",
    "path"
   ]
  },
  {
   "cell_type": "code",
   "execution_count": null,
   "metadata": {
    "collapsed": true
   },
   "outputs": [],
   "source": []
  }
 ],
 "metadata": {
  "anaconda-cloud": {},
  "kernelspec": {
   "display_name": "Python [conda root]",
   "language": "python",
   "name": "conda-root-py"
  },
  "language_info": {
   "codemirror_mode": {
    "name": "ipython",
    "version": 2
   },
   "file_extension": ".py",
   "mimetype": "text/x-python",
   "name": "python",
   "nbconvert_exporter": "python",
   "pygments_lexer": "ipython2",
   "version": "2.7.12"
  }
 },
 "nbformat": 4,
 "nbformat_minor": 1
}
